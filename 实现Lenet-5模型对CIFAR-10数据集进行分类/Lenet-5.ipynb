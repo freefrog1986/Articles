{
 "cells": [
  {
   "cell_type": "markdown",
   "metadata": {},
   "source": [
    "# LeNet-5模型的Python实现"
   ]
  },
  {
   "cell_type": "markdown",
   "metadata": {},
   "source": [
    "本文基于Python的Tensorflow库实现了经典模型LeNet-5，并在数据集CIFAR-10上进行训练和测试。"
   ]
  },
  {
   "cell_type": "markdown",
   "metadata": {},
   "source": [
    "## LeNet-5模型"
   ]
  },
  {
   "cell_type": "markdown",
   "metadata": {},
   "source": [
    "LeNet-5模型是Yan Lecun在1998年提出的一种卷积神经网络模型，最初设计用于手写数字的识别，是早期卷积神经网络中最有代表性的实验系统之一。[论文原地址链接](http://yann.lecun.com/exdb/publis/pdf/lecun-01a.pdf)。以下是该模型的结构。![lennet](https://img-blog.csdn.net/20171018154341615?watermark/2/text/aHR0cDovL2Jsb2cuY3Nkbi5uZXQvaGFwcHlvcmc=/font/5a6L5L2T/fontsize/400/fill/I0JBQkFCMA==/dissolve/70/gravity/SouthEast)"
   ]
  },
  {
   "cell_type": "markdown",
   "metadata": {},
   "source": [
    "## CIFAR-10数据集"
   ]
  },
  {
   "attachments": {},
   "cell_type": "markdown",
   "metadata": {},
   "source": [
    "CIOWE10数据集包括60000个32×32彩色图像，分为10个类别，每个类有6000个图像。有50000个训练图像和10000个测试图像。\n",
    "数据集分为五个训练批次和一个测试批次，每一个批次都有10000个图像。测试批次包含来自每个类别的随机抽取的1000个图像。训练批次在剩余图像中随机抽取，训练批次可能包含某一类的图像多于另一类。训练批次包含来自每个类的5000个图像。\n",
    "下面是数据集中的类别以及10个随机抽取的图像：\n",
    "![](https://github.com/freefrog1986/Articles/blob/master/%E5%AE%9E%E7%8E%B0Lenet-5%E6%A8%A1%E5%9E%8B%E5%AF%B9CIFAR-10%E6%95%B0%E6%8D%AE%E9%9B%86%E8%BF%9B%E8%A1%8C%E5%88%86%E7%B1%BB/cifar-10.png?raw=true)"
   ]
  },
  {
   "cell_type": "markdown",
   "metadata": {},
   "source": [
    "## 目标"
   ]
  },
  {
   "cell_type": "markdown",
   "metadata": {},
   "source": [
    "本文的目标是搭建LeNet模型，并在CIFAR-10数据集上进行训练和测试。使用python语言和tensorflow库。为了方便处理数据集，请下载helper.py文件并放在你的工作目录下。[下载地址.](https://github.com/freefrog1986/Articles/tree/master/%E5%AE%9E%E7%8E%B0Lenet-5%E6%A8%A1%E5%9E%8B%E5%AF%B9CIFAR-10%E6%95%B0%E6%8D%AE%E9%9B%86%E8%BF%9B%E8%A1%8C%E5%88%86%E7%B1%BB)\n",
    "\n",
    "- python 版本： Python '3.5.4'\n",
    "- tensorflow 版本：tensorflow '1.1.0'"
   ]
  },
  {
   "cell_type": "markdown",
   "metadata": {},
   "source": [
    "## 获取数据"
   ]
  },
  {
   "cell_type": "markdown",
   "metadata": {},
   "source": [
    "数据集下载地址：[CIFAR-10 dataset for python](https://www.cs.toronto.edu/~kriz/cifar-10-python.tar.gz)\n",
    "请下载并解压缩。"
   ]
  },
  {
   "cell_type": "markdown",
   "metadata": {},
   "source": [
    "## 预处理函数"
   ]
  },
  {
   "cell_type": "markdown",
   "metadata": {},
   "source": [
    "***归一化***"
   ]
  },
  {
   "cell_type": "markdown",
   "metadata": {},
   "source": [
    "我们知道，图像大小为[32,32,3]，其中第三维代表RGB通道，每一个通道的取值范围是[0,255]，所以我们将每一个像素数据除以255，相当于对数据进行归一化处理，得到归一化之后的数据取值范围是[0, 1]。"
   ]
  },
  {
   "cell_type": "code",
   "execution_count": 19,
   "metadata": {},
   "outputs": [],
   "source": [
    "def normalize(x):\n",
    "    \"\"\"\n",
    "    归一化至范围[0, 1]\n",
    "    x: 像素数据列表\n",
    "    return: 归一化后的数据\n",
    "    \"\"\"\n",
    "    return x/255 "
   ]
  },
  {
   "cell_type": "code",
   "execution_count": 20,
   "metadata": {},
   "outputs": [
    {
     "data": {
      "text/plain": [
       "array([0.47058824, 1.29019608, 1.        ])"
      ]
     },
     "execution_count": 20,
     "metadata": {},
     "output_type": "execute_result"
    }
   ],
   "source": [
    "import numpy as np\n",
    "normalize(np.array([120,329,255])) #测试"
   ]
  },
  {
   "cell_type": "markdown",
   "metadata": {},
   "source": [
    "***One-hot编码***"
   ]
  },
  {
   "cell_type": "markdown",
   "metadata": {},
   "source": [
    "这里需要对标签进行one-hot编码，首先创建一个与类别数量相同的全0数组，然后将对应位置置为1。例如，编码前的标签是4，编码后为[0,0,0,1,0,0,0,0,0,0]"
   ]
  },
  {
   "cell_type": "code",
   "execution_count": 21,
   "metadata": {},
   "outputs": [],
   "source": [
    "def one_hot_encode(x):\n",
    "    \"\"\"\n",
    "    one-hot编码.\n",
    "    : x: 标签列表\n",
    "    : return: Numpy array格式的one-hot编码标签列表\n",
    "    \"\"\"\n",
    "    output = np.zeros((len(x),10)) # 根据输入数组的长度和类别数量创建数组\n",
    "    for i in range(len(x)):\n",
    "        output[i][x[i]] = 1 # 将数组的对应位置置为1 \n",
    "    return output"
   ]
  },
  {
   "cell_type": "code",
   "execution_count": 25,
   "metadata": {},
   "outputs": [
    {
     "data": {
      "text/plain": [
       "array([[0., 1., 0., 0., 0., 0., 0., 0., 0., 0.],\n",
       "       [0., 0., 0., 1., 0., 0., 0., 0., 0., 0.],\n",
       "       [0., 0., 0., 0., 0., 0., 1., 0., 0., 0.],\n",
       "       [0., 0., 1., 0., 0., 0., 0., 0., 0., 0.],\n",
       "       [0., 0., 0., 0., 1., 0., 0., 0., 0., 0.],\n",
       "       [0., 0., 0., 0., 0., 0., 0., 0., 0., 1.]])"
      ]
     },
     "execution_count": 25,
     "metadata": {},
     "output_type": "execute_result"
    }
   ],
   "source": [
    "one_hot_encode(np.array([1,3,6,2,4,9])) #测试"
   ]
  },
  {
   "cell_type": "markdown",
   "metadata": {},
   "source": [
    "## 对所有数据进行预处理并保存"
   ]
  },
  {
   "cell_type": "markdown",
   "metadata": {},
   "source": [
    "有了上述预处理函数，我们就可以对所有数据进行预处理并保存。"
   ]
  },
  {
   "cell_type": "code",
   "execution_count": 35,
   "metadata": {},
   "outputs": [],
   "source": [
    "# 这里需要下载helper.py，并保存在工作目录下，下载链接在“目标”章节\n",
    "import helper\n",
    "helper.preprocess_and_save_data('cifar-10-batches-py', normalize, one_hot_encode)"
   ]
  },
  {
   "cell_type": "code",
   "execution_count": 110,
   "metadata": {},
   "outputs": [],
   "source": [
    "import pickle\n",
    "\n",
    "# 读取保存的数据\n",
    "valid_features, valid_labels = pickle.load(open('preprocess_validation.p', mode='rb'))"
   ]
  },
  {
   "cell_type": "markdown",
   "metadata": {},
   "source": [
    "## 打造卷积网络基本模块"
   ]
  },
  {
   "cell_type": "markdown",
   "metadata": {},
   "source": [
    "这一章主要聚焦打造卷积神经网络的基本模块，包括输入层，卷积层，池化层，全连接层，输出层等。使用tensorflow库。"
   ]
  },
  {
   "cell_type": "markdown",
   "metadata": {},
   "source": [
    "***图像输入***"
   ]
  },
  {
   "cell_type": "markdown",
   "metadata": {},
   "source": [
    "根据输入图像的尺寸定义tensor。"
   ]
  },
  {
   "cell_type": "code",
   "execution_count": 44,
   "metadata": {},
   "outputs": [],
   "source": [
    "import tensorflow as tf\n",
    "\n",
    "def neural_net_image_input(image_shape):\n",
    "    \"\"\"\n",
    "    返回输入图像的tensor\n",
    "    : image_shape: 图像的尺寸\n",
    "    : return: 正确尺寸的Tensor\n",
    "    \"\"\"\n",
    "    return tf.placeholder(tf.float32, [None, image_shape[0], image_shape[1], image_shape[2]], name = 'x')"
   ]
  },
  {
   "cell_type": "code",
   "execution_count": 45,
   "metadata": {},
   "outputs": [
    {
     "data": {
      "text/plain": [
       "<tf.Tensor 'x_4:0' shape=(?, 32, 32, 3) dtype=float32>"
      ]
     },
     "execution_count": 45,
     "metadata": {},
     "output_type": "execute_result"
    }
   ],
   "source": [
    "neural_net_image_input([32, 32, 3]) #测试"
   ]
  },
  {
   "cell_type": "markdown",
   "metadata": {},
   "source": [
    "注意到，这里将[32, 32, 3]尺寸的图像转换为(?, 32, 32, 3)尺寸的tensor格式，第一个维度是‘？’，因为第一个维度代表批大小，这里可以使用问号来代表以后可以输入任意大小的批数量。"
   ]
  },
  {
   "cell_type": "markdown",
   "metadata": {},
   "source": [
    "***标签输入***"
   ]
  },
  {
   "cell_type": "markdown",
   "metadata": {},
   "source": [
    "根据输入标签的类别数量定义张量。"
   ]
  },
  {
   "cell_type": "code",
   "execution_count": 46,
   "metadata": {},
   "outputs": [],
   "source": [
    "def neural_net_label_input(n_classes):\n",
    "    \"\"\"\n",
    "    返回输入标签的tensor\n",
    "    : n_classes: 标签类别数量\n",
    "    : return: 正确尺寸的Tensor\n",
    "    \"\"\"\n",
    "    return tf.placeholder(tf.float32, [None, n_classes], name = 'y')"
   ]
  },
  {
   "cell_type": "code",
   "execution_count": 47,
   "metadata": {},
   "outputs": [
    {
     "data": {
      "text/plain": [
       "<tf.Tensor 'y:0' shape=(?, 10) dtype=float32>"
      ]
     },
     "execution_count": 47,
     "metadata": {},
     "output_type": "execute_result"
    }
   ],
   "source": [
    "neural_net_label_input(10) #测试"
   ]
  },
  {
   "cell_type": "markdown",
   "metadata": {},
   "source": [
    "返回的tensor尺寸为(?, 10)，问号代表后面可以输入任意大小的批数量。"
   ]
  },
  {
   "cell_type": "markdown",
   "metadata": {},
   "source": [
    "***drop out参数***"
   ]
  },
  {
   "cell_type": "markdown",
   "metadata": {},
   "source": [
    "后面会用到drop out算法，简单来说，这个算法通过在训练网络的过程中随机关闭一定比例的神经元来避免过拟合，所以这里需要设定一个参数，即随机关闭的比例keep_prob."
   ]
  },
  {
   "cell_type": "code",
   "execution_count": 48,
   "metadata": {},
   "outputs": [],
   "source": [
    "def neural_net_keep_prob_input():\n",
    "    \"\"\"\n",
    "    返回tensor格式的概率，该概率是drop out算法的参数，表示保存的神经元的比例\n",
    "    \"\"\"\n",
    "    return tf.placeholder(tf.float32, None, name = 'keep_prob')"
   ]
  },
  {
   "cell_type": "markdown",
   "metadata": {},
   "source": [
    "***卷积和池化层***"
   ]
  },
  {
   "cell_type": "markdown",
   "metadata": {},
   "source": [
    "观察LeNet-5结构: 输入层 -> 卷积层 -> 池化层 -> 卷积层 -> 池化层 -> 全连接层1 -> 全连接层2 -> 输出层\n",
    "\n",
    "所以我们可以打造卷积-池化层模块和全连接层模块，将模块组合拼在一起即可以组成LeNet-5网络。"
   ]
  },
  {
   "cell_type": "code",
   "execution_count": 203,
   "metadata": {},
   "outputs": [],
   "source": [
    "def conv2d_avgpool(x_tensor, conv_num_outputs, conv_ksize, conv_strides, pool_ksize, pool_strides, keep_prob):\n",
    "    \"\"\"\n",
    "    对输入x_tensor应用卷积层和池化层\n",
    "    x_tensor: TensorFlow Tensor\n",
    "    conv_num_outputs: 卷积层的输出数量\n",
    "    conv_ksize: 卷积核的尺寸\n",
    "    conv_strides: 卷积的步进\n",
    "    pool_ksize: 池化层的核尺寸\n",
    "    pool_strides: 池化层的步进\n",
    "    keep_prob: dropout保存率\n",
    "    : return: 经过卷积层和池化层后的tensor\n",
    "    \"\"\"\n",
    "    weight = tf.Variable(tf.random_normal([conv_ksize[0], conv_ksize[1], x_tensor.get_shape().as_list()[3],conv_num_outputs]))\n",
    "    bias = tf.Variable(tf.random_normal([conv_num_outputs]))\n",
    "    x = tf.nn.conv2d(x_tensor, weight, strides= [1,conv_strides[0],conv_strides[1],1], padding = 'VALID')\n",
    "    x = tf.nn.bias_add(x, bias)\n",
    "    x = tf.nn.dropout(x, keep_prob)\n",
    "    x = tf.nn.avg_pool(x, ksize=[1, pool_ksize[0], pool_ksize[1], 1], strides=[1, pool_strides[0], pool_strides[1], 1], padding='SAME') \n",
    "    x = tf.nn.sigmoid(x)\n",
    "    return x"
   ]
  },
  {
   "cell_type": "code",
   "execution_count": 191,
   "metadata": {},
   "outputs": [
    {
     "data": {
      "text/plain": [
       "<tf.Tensor 'MaxPool_2:0' shape=(?, 14, 14, 6) dtype=float32>"
      ]
     },
     "execution_count": 191,
     "metadata": {},
     "output_type": "execute_result"
    }
   ],
   "source": [
    "conv2d_avg_pool(tf.placeholder(tf.float32, [None, 32,32,3]), 6, (5,5), (1,1), (2,2), (2,2), 0.8) # 测试"
   ]
  },
  {
   "cell_type": "markdown",
   "metadata": {},
   "source": [
    "***Flatten层***"
   ]
  },
  {
   "cell_type": "markdown",
   "metadata": {},
   "source": [
    "我们知道，全连接层就是常规神经网络中的隐藏层，它的维度是一维的，而卷积层和池化层处理的都是二维的数据，因此，池化层和全连接层之间有一个Flatten层将二维数据“Flatten”为一维数据。什么不将Flatten层定义为卷积神经网络中的一层，因为这一层没有任何参数，也没有对数据进行任何处理，所以我们可以把这层理解为对数据维度的一种转换，而不是神经网络最后中的一层。"
   ]
  },
  {
   "cell_type": "code",
   "execution_count": 192,
   "metadata": {},
   "outputs": [],
   "source": [
    "import tensorflow.contrib as tfc\n",
    "def flatten(x_tensor):\n",
    "    \"\"\"\n",
    "    将x_tensor转换为(批大小, flatten后图像大小)\n",
    "    x_tensor: 输入tensor\n",
    "    return: 输出tensor\n",
    "    \"\"\"\n",
    "    return tfc.layers.flatten(x_tensor)"
   ]
  },
  {
   "cell_type": "code",
   "execution_count": 193,
   "metadata": {},
   "outputs": [
    {
     "data": {
      "text/plain": [
       "<tf.Tensor 'Flatten_1/Reshape:0' shape=(?, 2560) dtype=float32>"
      ]
     },
     "execution_count": 193,
     "metadata": {},
     "output_type": "execute_result"
    }
   ],
   "source": [
    "flatten(tf.placeholder(tf.float32, [None, 16,16,10])) #测试"
   ]
  },
  {
   "cell_type": "markdown",
   "metadata": {},
   "source": [
    "***全连接层***"
   ]
  },
  {
   "cell_type": "markdown",
   "metadata": {},
   "source": [
    "全连接层相当于常规神经网络中的隐藏层，该层的唯一参数是输出尺寸（即神经元的数量）。"
   ]
  },
  {
   "cell_type": "code",
   "execution_count": 194,
   "metadata": {},
   "outputs": [],
   "source": [
    "def fully_conn(x_tensor, num_outputs):\n",
    "    \"\"\"\n",
    "    定义全连接层\n",
    "    : x_tensor: 输入tensor\n",
    "    : num_outputs: 输出尺寸\n",
    "    : return: tensor\n",
    "    \"\"\"\n",
    "    return tfc.layers.fully_connected(x_tensor, num_outputs)"
   ]
  },
  {
   "cell_type": "code",
   "execution_count": 195,
   "metadata": {},
   "outputs": [
    {
     "data": {
      "text/plain": [
       "<tf.Tensor 'fully_connected_2/Relu:0' shape=(?, 120) dtype=float32>"
      ]
     },
     "execution_count": 195,
     "metadata": {},
     "output_type": "execute_result"
    }
   ],
   "source": [
    "fully_conn(tf.placeholder(tf.float32, [None, 2560]), 120) #测试"
   ]
  },
  {
   "cell_type": "markdown",
   "metadata": {},
   "source": [
    "***输出层***"
   ]
  },
  {
   "cell_type": "markdown",
   "metadata": {},
   "source": [
    "最后是输出层，由于我们有10个类别，因此我们的输出层的尺寸为10."
   ]
  },
  {
   "cell_type": "code",
   "execution_count": 196,
   "metadata": {},
   "outputs": [],
   "source": [
    "def output(x_tensor, num_outputs):\n",
    "    \"\"\"\n",
    "    定义输出层\n",
    "    : x_tensor: 输入tensor\n",
    "    : num_outputs: 输出尺寸\n",
    "    : return: tensor\n",
    "    \"\"\"\n",
    "    return tfc.layers.fully_connected(inputs = x_tensor, num_outputs = num_outputs, activation_fn=None)"
   ]
  },
  {
   "cell_type": "code",
   "execution_count": 197,
   "metadata": {},
   "outputs": [
    {
     "data": {
      "text/plain": [
       "<tf.Tensor 'fully_connected_3/BiasAdd:0' shape=(?, 10) dtype=float32>"
      ]
     },
     "execution_count": 197,
     "metadata": {},
     "output_type": "execute_result"
    }
   ],
   "source": [
    "output(tf.placeholder(tf.float32, [None, 120]), 10) #测试"
   ]
  },
  {
   "cell_type": "markdown",
   "metadata": {},
   "source": [
    "***LeNet-5模型***"
   ]
  },
  {
   "cell_type": "markdown",
   "metadata": {},
   "source": [
    "有了上述模块，接下来可以搭积木式搭建LeNet-5模型，为了方便，我们将该模型的结构图放在这里：![lennet](https://img-blog.csdn.net/20171018154341615?watermark/2/text/aHR0cDovL2Jsb2cuY3Nkbi5uZXQvaGFwcHlvcmc=/font/5a6L5L2T/fontsize/400/fill/I0JBQkFCMA==/dissolve/70/gravity/SouthEast)"
   ]
  },
  {
   "cell_type": "code",
   "execution_count": 204,
   "metadata": {},
   "outputs": [],
   "source": [
    "def LeNet(x, keep_prob):\n",
    "    \"\"\"\n",
    "    打造LeNet\n",
    "    : x: 输入tensor\n",
    "    : keep_prob: dropout的保存率\n",
    "    : return: Tensor\n",
    "    \"\"\"\n",
    "    \n",
    "    # C1 and S2 layer \n",
    "    x = conv2d_avgpool(x, 6, (5,5), (1,1), (2,2), (2,2), keep_prob)\n",
    "    \n",
    "    # C3 and S4 layer\n",
    "    x = conv2d_avgpool(x, 16, (5,5), (1,1), (2,2), (2,2), keep_prob)\n",
    "    \n",
    "    # C5 layer\n",
    "    weight = tf.Variable(tf.random_normal([5, 5, x.get_shape().as_list()[3],120]))\n",
    "    bias = tf.Variable(tf.random_normal([120]))\n",
    "    x = tf.nn.conv2d(x, weight, strides= [1,5,5,1], padding = 'VALID')\n",
    "    x = tf.nn.bias_add(x, bias)\n",
    "    x = flatten(x)\n",
    "    \n",
    "    # F6 layer\n",
    "    x= fully_conn(x, 84)\n",
    "    \n",
    "    # ouput layer\n",
    "    x = output(x, 10)\n",
    "\n",
    "    return x"
   ]
  },
  {
   "cell_type": "markdown",
   "metadata": {},
   "source": [
    "下面利用前面的模块构建模型，并定义损失函数和优化器。"
   ]
  },
  {
   "cell_type": "code",
   "execution_count": 205,
   "metadata": {},
   "outputs": [],
   "source": [
    "tf.reset_default_graph()\n",
    "\n",
    "# 输入\n",
    "x = neural_net_image_input((32, 32, 3))\n",
    "y = neural_net_label_input(10)\n",
    "keep_prob = neural_net_keep_prob_input()\n",
    "\n",
    "# 模型\n",
    "logits = LeNet(x, keep_prob)\n",
    "\n",
    "# Name logits Tensor, so that is can be loaded from disk after training\n",
    "logits = tf.identity(logits, name='logits')\n",
    "\n",
    "# 损失函数和优化器\n",
    "cost = tf.reduce_mean(tf.nn.softmax_cross_entropy_with_logits(logits=logits, labels=y))\n",
    "optimizer = tf.train.AdamOptimizer().minimize(cost)\n",
    "\n",
    "# 使用准确率作为meritc\n",
    "correct_pred = tf.equal(tf.argmax(logits, 1), tf.argmax(y, 1))\n",
    "accuracy = tf.reduce_mean(tf.cast(correct_pred, tf.float32), name='accuracy')"
   ]
  },
  {
   "cell_type": "markdown",
   "metadata": {},
   "source": [
    "### 训练神经网络"
   ]
  },
  {
   "cell_type": "markdown",
   "metadata": {},
   "source": [
    "***训练函数***"
   ]
  },
  {
   "cell_type": "markdown",
   "metadata": {},
   "source": [
    "因为我们要批量训练，所以这里我们先定义一个训练函数。"
   ]
  },
  {
   "cell_type": "code",
   "execution_count": 206,
   "metadata": {},
   "outputs": [],
   "source": [
    "def train_neural_network(session, optimizer, keep_probability, feature_batch, label_batch):\n",
    "    \"\"\"\n",
    "    对批次训练集进行训练\n",
    "    : session: TensorFlow session\n",
    "    : optimizer: 优化器\n",
    "    : keep_probability: dropout参数\n",
    "    : feature_batch: 特征批次\n",
    "    : label_batch: 标签批次\n",
    "    \"\"\"\n",
    "    session.run(optimizer, feed_dict={x: feature_batch, y: label_batch, keep_prob: keep_probability})\n",
    "    pass"
   ]
  },
  {
   "cell_type": "markdown",
   "metadata": {},
   "source": [
    "***打印状态***"
   ]
  },
  {
   "cell_type": "markdown",
   "metadata": {},
   "source": [
    "由于训练时间较长，这里定义一个函数用于打印中间状态。"
   ]
  },
  {
   "cell_type": "code",
   "execution_count": 207,
   "metadata": {},
   "outputs": [],
   "source": [
    "def print_stats(session, feature_batch, label_batch, cost, accuracy):\n",
    "    \"\"\"\n",
    "    打印损失函数和准确率\n",
    "    : session: TensorFlow session\n",
    "    : feature_batch: 特征批次\n",
    "    : label_batch: 标签批次\n",
    "    : cost: 损失函数\n",
    "    : accuracy: 精确度\n",
    "    \"\"\"\n",
    "    loss = session.run(cost, feed_dict={x: feature_batch, y: label_batch, keep_prob: 1.})\n",
    "    valid_acc = sess.run(accuracy, feed_dict={x: valid_features, y: valid_labels, keep_prob: 1.})\n",
    "    print(loss)\n",
    "    print(valid_acc)\n",
    "    pass"
   ]
  },
  {
   "cell_type": "markdown",
   "metadata": {},
   "source": [
    "***训练***"
   ]
  },
  {
   "cell_type": "code",
   "execution_count": 209,
   "metadata": {},
   "outputs": [
    {
     "name": "stdout",
     "output_type": "stream",
     "text": [
      "Training...\n",
      "Epoch  1, CIFAR-10 Batch 1:  2.3937168\n",
      "0.1986\n",
      "Epoch  1, CIFAR-10 Batch 2:  2.138945\n",
      "0.2454\n",
      "Epoch  1, CIFAR-10 Batch 3:  1.7392156\n",
      "0.2046\n",
      "Epoch  1, CIFAR-10 Batch 4:  2.077188\n",
      "0.2468\n",
      "Epoch  1, CIFAR-10 Batch 5:  2.2822495\n",
      "0.2606\n",
      "Epoch  2, CIFAR-10 Batch 1:  2.095818\n",
      "0.2748\n",
      "Epoch  2, CIFAR-10 Batch 2:  1.9870247\n",
      "0.2902\n",
      "Epoch  2, CIFAR-10 Batch 3:  1.5699615\n",
      "0.2686\n",
      "Epoch  2, CIFAR-10 Batch 4:  1.8418477\n",
      "0.2838\n",
      "Epoch  2, CIFAR-10 Batch 5:  2.1720307\n",
      "0.303\n",
      "Epoch  3, CIFAR-10 Batch 1:  1.984391\n",
      "0.328\n",
      "Epoch  3, CIFAR-10 Batch 2:  1.9639237\n",
      "0.331\n",
      "Epoch  3, CIFAR-10 Batch 3:  1.5062636\n",
      "0.3034\n",
      "Epoch  3, CIFAR-10 Batch 4:  1.6582733\n",
      "0.3416\n",
      "Epoch  3, CIFAR-10 Batch 5:  2.055703\n",
      "0.3492\n",
      "Epoch  4, CIFAR-10 Batch 1:  1.9153427\n",
      "0.358\n",
      "Epoch  4, CIFAR-10 Batch 2:  1.9415958\n",
      "0.356\n",
      "Epoch  4, CIFAR-10 Batch 3:  1.4535301\n",
      "0.323\n",
      "Epoch  4, CIFAR-10 Batch 4:  1.5730636\n",
      "0.375\n",
      "Epoch  4, CIFAR-10 Batch 5:  2.0198524\n",
      "0.3744\n",
      "Epoch  5, CIFAR-10 Batch 1:  1.8876024\n",
      "0.3716\n",
      "Epoch  5, CIFAR-10 Batch 2:  1.8451786\n",
      "0.3692\n",
      "Epoch  5, CIFAR-10 Batch 3:  1.451083\n",
      "0.3518\n",
      "Epoch  5, CIFAR-10 Batch 4:  1.5578245\n",
      "0.3774\n",
      "Epoch  5, CIFAR-10 Batch 5:  1.9726067\n",
      "0.3818\n",
      "Epoch  6, CIFAR-10 Batch 1:  1.8389122\n",
      "0.3818\n",
      "Epoch  6, CIFAR-10 Batch 2:  1.7379951\n",
      "0.3846\n",
      "Epoch  6, CIFAR-10 Batch 3:  1.4359134\n",
      "0.382\n",
      "Epoch  6, CIFAR-10 Batch 4:  1.5352719\n",
      "0.3842\n",
      "Epoch  6, CIFAR-10 Batch 5:  1.9233831\n",
      "0.4012\n",
      "Epoch  7, CIFAR-10 Batch 1:  1.8500977\n",
      "0.3888\n",
      "Epoch  7, CIFAR-10 Batch 2:  1.6696068\n",
      "0.4084\n",
      "Epoch  7, CIFAR-10 Batch 3:  1.3681717\n",
      "0.4014\n",
      "Epoch  7, CIFAR-10 Batch 4:  1.5143387\n",
      "0.3942\n",
      "Epoch  7, CIFAR-10 Batch 5:  1.8783287\n",
      "0.4102\n",
      "Epoch  8, CIFAR-10 Batch 1:  1.8292816\n",
      "0.4002\n",
      "Epoch  8, CIFAR-10 Batch 2:  1.6452824\n",
      "0.417\n",
      "Epoch  8, CIFAR-10 Batch 3:  1.2985231\n",
      "0.408\n",
      "Epoch  8, CIFAR-10 Batch 4:  1.4410734\n",
      "0.4092\n",
      "Epoch  8, CIFAR-10 Batch 5:  1.8356085\n",
      "0.4206\n",
      "Epoch  9, CIFAR-10 Batch 1:  1.8217659\n",
      "0.4096\n",
      "Epoch  9, CIFAR-10 Batch 2:  1.6013153\n",
      "0.4194\n",
      "Epoch  9, CIFAR-10 Batch 3:  1.2532711\n",
      "0.4142\n",
      "Epoch  9, CIFAR-10 Batch 4:  1.4220384\n",
      "0.4214\n",
      "Epoch  9, CIFAR-10 Batch 5:  1.8053949\n",
      "0.4302\n",
      "Epoch 10, CIFAR-10 Batch 1:  1.837746\n",
      "0.4204\n",
      "Epoch 10, CIFAR-10 Batch 2:  1.5770963\n",
      "0.425\n",
      "Epoch 10, CIFAR-10 Batch 3:  1.1959038\n",
      "0.423\n",
      "Epoch 10, CIFAR-10 Batch 4:  1.3870032\n",
      "0.4344\n",
      "Epoch 10, CIFAR-10 Batch 5:  1.7600863\n",
      "0.4264\n",
      "Epoch 11, CIFAR-10 Batch 1:  1.8258724\n",
      "0.4302\n",
      "Epoch 11, CIFAR-10 Batch 2:  1.5774186\n",
      "0.4304\n",
      "Epoch 11, CIFAR-10 Batch 3:  1.1449778\n",
      "0.4294\n",
      "Epoch 11, CIFAR-10 Batch 4:  1.3962917\n",
      "0.433\n",
      "Epoch 11, CIFAR-10 Batch 5:  1.707501\n",
      "0.4318\n",
      "Epoch 12, CIFAR-10 Batch 1:  1.8196911\n",
      "0.4366\n",
      "Epoch 12, CIFAR-10 Batch 2:  1.5434598\n",
      "0.4388\n",
      "Epoch 12, CIFAR-10 Batch 3:  1.1093102\n",
      "0.4298\n",
      "Epoch 12, CIFAR-10 Batch 4:  1.3958509\n",
      "0.437\n",
      "Epoch 12, CIFAR-10 Batch 5:  1.682098\n",
      "0.4442\n",
      "Epoch 13, CIFAR-10 Batch 1:  1.8100446\n",
      "0.4446\n",
      "Epoch 13, CIFAR-10 Batch 2:  1.5370309\n",
      "0.4458\n",
      "Epoch 13, CIFAR-10 Batch 3:  1.0802091\n",
      "0.436\n",
      "Epoch 13, CIFAR-10 Batch 4:  1.3705984\n",
      "0.4446\n",
      "Epoch 13, CIFAR-10 Batch 5:  1.6881816\n",
      "0.4494\n",
      "Epoch 14, CIFAR-10 Batch 1:  1.7669443\n",
      "0.4482\n",
      "Epoch 14, CIFAR-10 Batch 2:  1.5010962\n",
      "0.4496\n",
      "Epoch 14, CIFAR-10 Batch 3:  1.0607798\n",
      "0.447\n",
      "Epoch 14, CIFAR-10 Batch 4:  1.3545642\n",
      "0.451\n",
      "Epoch 14, CIFAR-10 Batch 5:  1.6410096\n",
      "0.4482\n",
      "Epoch 15, CIFAR-10 Batch 1:  1.7699379\n",
      "0.4576\n",
      "Epoch 15, CIFAR-10 Batch 2:  1.4958605\n",
      "0.4504\n",
      "Epoch 15, CIFAR-10 Batch 3:  1.0426291\n",
      "0.4442\n",
      "Epoch 15, CIFAR-10 Batch 4:  1.3092523\n",
      "0.4538\n",
      "Epoch 15, CIFAR-10 Batch 5:  1.6302598\n",
      "0.4454\n",
      "Epoch 16, CIFAR-10 Batch 1:  1.6919315\n",
      "0.4594\n",
      "Epoch 16, CIFAR-10 Batch 2:  1.4374231\n",
      "0.4514\n",
      "Epoch 16, CIFAR-10 Batch 3:  1.0371668\n",
      "0.4492\n",
      "Epoch 16, CIFAR-10 Batch 4:  1.3386614\n",
      "0.4592\n",
      "Epoch 16, CIFAR-10 Batch 5:  1.6289294\n",
      "0.4544\n",
      "Epoch 17, CIFAR-10 Batch 1:  1.6642234\n",
      "0.465\n",
      "Epoch 17, CIFAR-10 Batch 2:  1.4214637\n",
      "0.458\n",
      "Epoch 17, CIFAR-10 Batch 3:  0.9943342\n",
      "0.451\n",
      "Epoch 17, CIFAR-10 Batch 4:  1.3206671\n",
      "0.466\n",
      "Epoch 17, CIFAR-10 Batch 5:  1.5737681\n",
      "0.455\n",
      "Epoch 18, CIFAR-10 Batch 1:  1.6279701\n",
      "0.4682\n",
      "Epoch 18, CIFAR-10 Batch 2:  1.4003721\n",
      "0.4584\n",
      "Epoch 18, CIFAR-10 Batch 3:  0.97169334\n",
      "0.4558\n",
      "Epoch 18, CIFAR-10 Batch 4:  1.327873\n",
      "0.4622\n",
      "Epoch 18, CIFAR-10 Batch 5:  1.5621166\n",
      "0.4628\n",
      "Epoch 19, CIFAR-10 Batch 1:  1.627936\n",
      "0.4734\n",
      "Epoch 19, CIFAR-10 Batch 2:  1.3449476\n",
      "0.4626\n",
      "Epoch 19, CIFAR-10 Batch 3:  0.9276311\n",
      "0.4546\n",
      "Epoch 19, CIFAR-10 Batch 4:  1.3285351\n",
      "0.469\n",
      "Epoch 19, CIFAR-10 Batch 5:  1.51416\n",
      "0.4708\n",
      "Epoch 20, CIFAR-10 Batch 1:  1.6268638\n",
      "0.4794\n",
      "Epoch 20, CIFAR-10 Batch 2:  1.3104322\n",
      "0.4602\n",
      "Epoch 20, CIFAR-10 Batch 3:  0.9090967\n",
      "0.4642\n",
      "Epoch 20, CIFAR-10 Batch 4:  1.3160003\n",
      "0.4656\n",
      "Epoch 20, CIFAR-10 Batch 5:  1.4895521\n",
      "0.4704\n",
      "Epoch 21, CIFAR-10 Batch 1:  1.60501\n",
      "0.473\n",
      "Epoch 21, CIFAR-10 Batch 2:  1.2967964\n",
      "0.4722\n",
      "Epoch 21, CIFAR-10 Batch 3:  0.8896745\n",
      "0.4628\n",
      "Epoch 21, CIFAR-10 Batch 4:  1.2829638\n",
      "0.4722\n",
      "Epoch 21, CIFAR-10 Batch 5:  1.4885019\n",
      "0.4778\n",
      "Epoch 22, CIFAR-10 Batch 1:  1.5897295\n",
      "0.4776\n",
      "Epoch 22, CIFAR-10 Batch 2:  1.2696434\n",
      "0.4754\n",
      "Epoch 22, CIFAR-10 Batch 3:  0.8740696\n",
      "0.4592\n",
      "Epoch 22, CIFAR-10 Batch 4:  1.2677319\n",
      "0.4746\n",
      "Epoch 22, CIFAR-10 Batch 5:  1.4741116\n",
      "0.4748\n",
      "Epoch 23, CIFAR-10 Batch 1:  1.5798727\n",
      "0.482\n",
      "Epoch 23, CIFAR-10 Batch 2:  1.1897253\n",
      "0.4786\n",
      "Epoch 23, CIFAR-10 Batch 3:  0.84972227\n",
      "0.4652\n",
      "Epoch 23, CIFAR-10 Batch 4:  1.2531726\n",
      "0.488\n",
      "Epoch 23, CIFAR-10 Batch 5:  1.463383\n",
      "0.4796\n",
      "Epoch 24, CIFAR-10 Batch 1:  1.5789564\n",
      "0.4818\n",
      "Epoch 24, CIFAR-10 Batch 2:  1.1745781\n",
      "0.4772\n",
      "Epoch 24, CIFAR-10 Batch 3:  0.85132504\n",
      "0.4738\n",
      "Epoch 24, CIFAR-10 Batch 4:  1.2370241\n",
      "0.4826\n",
      "Epoch 24, CIFAR-10 Batch 5:  1.4362108\n",
      "0.484\n",
      "Epoch 25, CIFAR-10 Batch 1:  1.55149\n",
      "0.4848\n",
      "Epoch 25, CIFAR-10 Batch 2:  1.1372292\n",
      "0.4752\n",
      "Epoch 25, CIFAR-10 Batch 3:  0.8216383\n",
      "0.4738\n",
      "Epoch 25, CIFAR-10 Batch 4:  1.1910381\n",
      "0.4894\n",
      "Epoch 25, CIFAR-10 Batch 5:  1.4152396\n",
      "0.4834\n",
      "Epoch 26, CIFAR-10 Batch 1:  1.5343231\n",
      "0.4824\n",
      "Epoch 26, CIFAR-10 Batch 2:  1.1114413\n",
      "0.4836\n",
      "Epoch 26, CIFAR-10 Batch 3:  0.8056421\n",
      "0.4772\n",
      "Epoch 26, CIFAR-10 Batch 4:  1.2022607\n",
      "0.4824\n",
      "Epoch 26, CIFAR-10 Batch 5:  1.3981539\n",
      "0.4896\n",
      "Epoch 27, CIFAR-10 Batch 1:  1.5480974\n",
      "0.4852\n",
      "Epoch 27, CIFAR-10 Batch 2:  1.0810182\n",
      "0.4872\n",
      "Epoch 27, CIFAR-10 Batch 3:  0.7807368\n",
      "0.476\n",
      "Epoch 27, CIFAR-10 Batch 4:  1.1774385\n",
      "0.4828\n",
      "Epoch 27, CIFAR-10 Batch 5:  1.3548536\n",
      "0.4862\n",
      "Epoch 28, CIFAR-10 Batch 1:  1.5334278\n",
      "0.4852\n",
      "Epoch 28, CIFAR-10 Batch 2:  1.0907438\n",
      "0.4872\n",
      "Epoch 28, CIFAR-10 Batch 3:  0.75718004\n",
      "0.4776\n",
      "Epoch 28, CIFAR-10 Batch 4:  1.148676\n",
      "0.4826\n",
      "Epoch 28, CIFAR-10 Batch 5:  1.3504028\n",
      "0.495\n",
      "Epoch 29, CIFAR-10 Batch 1:  1.5314782\n",
      "0.4848\n",
      "Epoch 29, CIFAR-10 Batch 2:  1.0617809\n",
      "0.4888\n",
      "Epoch 29, CIFAR-10 Batch 3:  0.7804914\n",
      "0.478\n",
      "Epoch 29, CIFAR-10 Batch 4:  1.1199831\n",
      "0.4878\n",
      "Epoch 29, CIFAR-10 Batch 5:  1.3065048\n",
      "0.4914\n",
      "Epoch 30, CIFAR-10 Batch 1:  1.4783146\n",
      "0.4908\n",
      "Epoch 30, CIFAR-10 Batch 2:  1.0510244\n",
      "0.489\n",
      "Epoch 30, CIFAR-10 Batch 3:  0.76725924\n",
      "0.4828\n",
      "Epoch 30, CIFAR-10 Batch 4:  1.1135819\n",
      "0.4886\n",
      "Epoch 30, CIFAR-10 Batch 5:  1.291412\n",
      "0.4886\n"
     ]
    }
   ],
   "source": [
    "epochs = 30\n",
    "batch_size = 128\n",
    "keep_probability = 0.9\n",
    "\n",
    "save_model_path = './image_classification'\n",
    "\n",
    "print('Training...')\n",
    "with tf.Session() as sess:\n",
    "    # Initializing the variables\n",
    "    sess.run(tf.global_variables_initializer())\n",
    "    \n",
    "    # Training cycle\n",
    "    for epoch in range(epochs):\n",
    "        # Loop over all batches\n",
    "        n_batches = 5\n",
    "        for batch_i in range(1, n_batches + 1):\n",
    "            for batch_features, batch_labels in helper.load_preprocess_training_batch(batch_i, batch_size):\n",
    "                train_neural_network(sess, optimizer, keep_probability, batch_features, batch_labels)\n",
    "            print('Epoch {:>2}, CIFAR-10 Batch {}:  '.format(epoch + 1, batch_i), end='')\n",
    "            print_stats(sess, batch_features, batch_labels, cost, accuracy)\n",
    "            \n",
    "    # Save Model\n",
    "    saver = tf.train.Saver()\n",
    "    save_path = saver.save(sess, save_model_path)"
   ]
  },
  {
   "cell_type": "markdown",
   "metadata": {},
   "source": [
    "最终得到的准确率48.9%"
   ]
  },
  {
   "cell_type": "markdown",
   "metadata": {},
   "source": [
    "## 测试"
   ]
  },
  {
   "cell_type": "markdown",
   "metadata": {},
   "source": [
    "最后，在测试集上验证算法。"
   ]
  },
  {
   "cell_type": "code",
   "execution_count": 210,
   "metadata": {},
   "outputs": [
    {
     "name": "stdout",
     "output_type": "stream",
     "text": [
      "INFO:tensorflow:Restoring parameters from ./image_classification\n",
      "Testing Accuracy: 0.49238528481012656\n",
      "\n"
     ]
    },
    {
     "data": {
      "image/png": "[encoded data removed]",
      "text/plain": [
       "<Figure size 432x288 with 8 Axes>"
      ]
     },
     "metadata": {
      "image/png": {
       "height": 319,
       "width": 355
      }
     },
     "output_type": "display_data"
    }
   ],
   "source": [
    "%matplotlib inline\n",
    "%config InlineBackend.figure_format = 'retina'\n",
    "\n",
    "import tensorflow as tf\n",
    "import pickle\n",
    "import helper\n",
    "import random\n",
    "\n",
    "try:\n",
    "    if batch_size:\n",
    "        pass\n",
    "except NameError:\n",
    "    batch_size = 64\n",
    "\n",
    "save_model_path = './image_classification'\n",
    "n_samples = 4\n",
    "top_n_predictions = 3\n",
    "\n",
    "def test_model():\n",
    "    test_features, test_labels = pickle.load(open('preprocess_training.p', mode='rb'))\n",
    "    loaded_graph = tf.Graph()\n",
    "\n",
    "    with tf.Session(graph=loaded_graph) as sess:\n",
    "        # Load model\n",
    "        loader = tf.train.import_meta_graph(save_model_path + '.meta')\n",
    "        loader.restore(sess, save_model_path)\n",
    "\n",
    "        # Get Tensors from loaded model\n",
    "        loaded_x = loaded_graph.get_tensor_by_name('x:0')\n",
    "        loaded_y = loaded_graph.get_tensor_by_name('y:0')\n",
    "        loaded_keep_prob = loaded_graph.get_tensor_by_name('keep_prob:0')\n",
    "        loaded_logits = loaded_graph.get_tensor_by_name('logits:0')\n",
    "        loaded_acc = loaded_graph.get_tensor_by_name('accuracy:0')\n",
    "        \n",
    "        # Get accuracy in batches for memory limitations\n",
    "        test_batch_acc_total = 0\n",
    "        test_batch_count = 0\n",
    "        \n",
    "        for train_feature_batch, train_label_batch in helper.batch_features_labels(test_features, test_labels, batch_size):\n",
    "            test_batch_acc_total += sess.run(\n",
    "                loaded_acc,\n",
    "                feed_dict={loaded_x: train_feature_batch, loaded_y: train_label_batch, loaded_keep_prob: 1.0})\n",
    "            test_batch_count += 1\n",
    "\n",
    "        print('Testing Accuracy: {}\\n'.format(test_batch_acc_total/test_batch_count))\n",
    "\n",
    "        # Print Random Samples\n",
    "        random_test_features, random_test_labels = tuple(zip(*random.sample(list(zip(test_features, test_labels)), n_samples)))\n",
    "        random_test_predictions = sess.run(\n",
    "            tf.nn.top_k(tf.nn.softmax(loaded_logits), top_n_predictions),\n",
    "            feed_dict={loaded_x: random_test_features, loaded_y: random_test_labels, loaded_keep_prob: 1.0})\n",
    "        helper.display_image_predictions(random_test_features, random_test_labels, random_test_predictions)\n",
    "\n",
    "\n",
    "test_model()"
   ]
  },
  {
   "cell_type": "code",
   "execution_count": null,
   "metadata": {},
   "outputs": [],
   "source": []
  }
 ],
 "metadata": {
  "kernelspec": {
   "display_name": "Python [conda env:anaconda3]",
   "language": "python",
   "name": "conda-env-anaconda3-py"
  },
  "language_info": {
   "codemirror_mode": {
    "name": "ipython",
    "version": 3
   },
   "file_extension": ".py",
   "mimetype": "text/x-python",
   "name": "python",
   "nbconvert_exporter": "python",
   "pygments_lexer": "ipython3",
   "version": "3.5.4"
  }
 },
 "nbformat": 4,
 "nbformat_minor": 2
}
